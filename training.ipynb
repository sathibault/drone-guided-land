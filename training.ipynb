{
 "cells": [
  {
   "cell_type": "code",
   "execution_count": 1,
   "metadata": {},
   "outputs": [],
   "source": [
    "import matplotlib.pyplot as plt\n",
    "import numpy as np\n",
    "import os\n",
    "import tensorflow as tf\n",
    "\n",
    "from tensorflow import keras\n",
    "from tensorflow.keras import layers\n",
    "from tensorflow.keras.models import Sequential\n",
    "import tensorflow_model_optimization as tfmot"
   ]
  },
  {
   "cell_type": "markdown",
   "metadata": {},
   "source": [
    "## Configuration constants"
   ]
  },
  {
   "cell_type": "code",
   "execution_count": 2,
   "metadata": {},
   "outputs": [],
   "source": [
    "# patch size\n",
    "tgt_width = 14\n",
    "tgt_height = 14\n",
    "\n",
    "# training batch size\n",
    "batch_size = 128"
   ]
  },
  {
   "cell_type": "markdown",
   "metadata": {},
   "source": [
    "## Set up training/validation data with augmentation"
   ]
  },
  {
   "cell_type": "code",
   "execution_count": 3,
   "metadata": {},
   "outputs": [],
   "source": [
    "train_datagen = tf.keras.preprocessing.image.ImageDataGenerator(\n",
    "    featurewise_center=False, samplewise_center=False,\n",
    "    featurewise_std_normalization=False, samplewise_std_normalization=False,\n",
    "    zca_whitening=False, zca_epsilon=1e-06, rotation_range=30,\n",
    "    width_shift_range=4, height_shift_range=4, brightness_range=[0.8,1.2],\n",
    "    shear_range=0.0, zoom_range=[0.8,1.2],\n",
    "    channel_shift_range=20., fill_mode='reflect',\n",
    "    horizontal_flip=True, vertical_flip=True, rescale=1.0/256.0,\n",
    "    validation_split=0.2\n",
    ")"
   ]
  },
  {
   "cell_type": "code",
   "execution_count": 4,
   "metadata": {},
   "outputs": [
    {
     "name": "stdout",
     "output_type": "stream",
     "text": [
      "Found 3045 images belonging to 3 classes.\n"
     ]
    },
    {
     "name": "stderr",
     "output_type": "stream",
     "text": [
      "c:\\tools\\python37\\lib\\site-packages\\keras_preprocessing\\image\\utils.py:179: UserWarning: Using \".tiff\" files with multiple bands will cause distortion. Please verify your output.\n",
      "  warnings.warn('Using \".tiff\" files with multiple bands '\n"
     ]
    }
   ],
   "source": [
    "train_gen = train_datagen.flow_from_directory(\n",
    "        'patchset',\n",
    "        subset='training',\n",
    "        target_size=(tgt_width,tgt_height),\n",
    "        batch_size=batch_size)\n",
    "n_train=len(train_gen)"
   ]
  },
  {
   "cell_type": "code",
   "execution_count": 5,
   "metadata": {},
   "outputs": [
    {
     "name": "stdout",
     "output_type": "stream",
     "text": [
      "Found 761 images belonging to 3 classes.\n"
     ]
    }
   ],
   "source": [
    "val_gen = train_datagen.flow_from_directory(\n",
    "        'patchset',\n",
    "        subset='validation',\n",
    "        target_size=(tgt_width,tgt_height),\n",
    "        batch_size=batch_size)\n",
    "n_val=len(val_gen)"
   ]
  },
  {
   "cell_type": "code",
   "execution_count": 6,
   "metadata": {},
   "outputs": [
    {
     "name": "stdout",
     "output_type": "stream",
     "text": [
      "{'ground': 0, 'pavement': 1, 'unknown': 2}\n"
     ]
    }
   ],
   "source": [
    "class_names = train_gen.class_indices\n",
    "print(class_names)"
   ]
  },
  {
   "cell_type": "markdown",
   "metadata": {},
   "source": [
    "## Training"
   ]
  },
  {
   "cell_type": "code",
   "execution_count": 7,
   "metadata": {},
   "outputs": [
    {
     "name": "stdout",
     "output_type": "stream",
     "text": [
      "Model: \"sequential\"\n",
      "_________________________________________________________________\n",
      "Layer (type)                 Output Shape              Param #   \n",
      "=================================================================\n",
      "conv2d (Conv2D)              (None, 5, 5, 10)          760       \n",
      "_________________________________________________________________\n",
      "conv2d_1 (Conv2D)            (None, 3, 3, 3)           273       \n",
      "_________________________________________________________________\n",
      "global_average_pooling2d (Gl (None, 3)                 0         \n",
      "=================================================================\n",
      "Total params: 1,033\n",
      "Trainable params: 1,033\n",
      "Non-trainable params: 0\n",
      "_________________________________________________________________\n"
     ]
    }
   ],
   "source": [
    "model = Sequential([\n",
    "    layers.Input(shape=(tgt_width,tgt_height,3)),\n",
    "    layers.Conv2D(10, 5, strides=2, padding='valid', activation='relu'),\n",
    "    layers.Conv2D(3, 3, padding='valid'),\n",
    "    layers.GlobalAveragePooling2D(),\n",
    "])\n",
    "#model = icenet.make_net((img_width,img_height,3),len(class_names))\n",
    "#model = icenet.make_tutorial(None,(img_width,img_height,3),len(class_names))\n",
    "model.summary()"
   ]
  },
  {
   "cell_type": "code",
   "execution_count": 8,
   "metadata": {},
   "outputs": [],
   "source": [
    "model.compile(optimizer='adam',\n",
    "              loss=tf.keras.losses.CategoricalCrossentropy(from_logits=True),\n",
    "              #loss=tf.keras.losses.CategoricalHinge(),\n",
    "              metrics=['accuracy'])"
   ]
  },
  {
   "cell_type": "code",
   "execution_count": 9,
   "metadata": {},
   "outputs": [
    {
     "name": "stdout",
     "output_type": "stream",
     "text": [
      "Epoch 1/15\n",
      "24/24 [==============================] - 4s 162ms/step - loss: 1.0612 - accuracy: 0.5293 - val_loss: 0.8935 - val_accuracy: 0.7753\n",
      "Epoch 2/15\n",
      "24/24 [==============================] - 3s 139ms/step - loss: 0.8379 - accuracy: 0.7653 - val_loss: 0.6500 - val_accuracy: 0.7819\n",
      "Epoch 3/15\n",
      "24/24 [==============================] - 3s 137ms/step - loss: 0.6207 - accuracy: 0.8006 - val_loss: 0.5112 - val_accuracy: 0.8160\n",
      "Epoch 4/15\n",
      "24/24 [==============================] - 3s 138ms/step - loss: 0.4865 - accuracy: 0.8339 - val_loss: 0.4828 - val_accuracy: 0.8200\n",
      "Epoch 5/15\n",
      "24/24 [==============================] - 3s 137ms/step - loss: 0.4093 - accuracy: 0.8556 - val_loss: 0.4066 - val_accuracy: 0.8476\n",
      "Epoch 6/15\n",
      "24/24 [==============================] - 3s 137ms/step - loss: 0.3988 - accuracy: 0.8596 - val_loss: 0.4079 - val_accuracy: 0.8515\n",
      "Epoch 7/15\n",
      "24/24 [==============================] - 3s 138ms/step - loss: 0.3805 - accuracy: 0.8700 - val_loss: 0.4032 - val_accuracy: 0.8502\n",
      "Epoch 8/15\n",
      "24/24 [==============================] - 3s 137ms/step - loss: 0.3656 - accuracy: 0.8590 - val_loss: 0.3914 - val_accuracy: 0.8673\n",
      "Epoch 9/15\n",
      "24/24 [==============================] - 3s 137ms/step - loss: 0.3604 - accuracy: 0.8660 - val_loss: 0.4033 - val_accuracy: 0.8607\n",
      "Epoch 10/15\n",
      "24/24 [==============================] - 3s 138ms/step - loss: 0.3655 - accuracy: 0.8718 - val_loss: 0.3391 - val_accuracy: 0.8791\n",
      "Epoch 11/15\n",
      "24/24 [==============================] - 3s 137ms/step - loss: 0.3315 - accuracy: 0.8723 - val_loss: 0.3683 - val_accuracy: 0.8752\n",
      "Epoch 12/15\n",
      "24/24 [==============================] - 3s 136ms/step - loss: 0.3180 - accuracy: 0.8833 - val_loss: 0.3985 - val_accuracy: 0.8804\n",
      "Epoch 13/15\n",
      "24/24 [==============================] - 3s 138ms/step - loss: 0.3313 - accuracy: 0.8795 - val_loss: 0.4011 - val_accuracy: 0.8607\n",
      "Epoch 14/15\n",
      "24/24 [==============================] - 3s 137ms/step - loss: 0.3418 - accuracy: 0.8758 - val_loss: 0.3505 - val_accuracy: 0.8765\n",
      "Epoch 15/15\n",
      "24/24 [==============================] - 3s 139ms/step - loss: 0.3074 - accuracy: 0.8863 - val_loss: 0.3205 - val_accuracy: 0.8962\n"
     ]
    }
   ],
   "source": [
    "epochs=15\n",
    "history = model.fit(\n",
    "  train_gen, steps_per_epoch=n_train,\n",
    "  validation_data=val_gen, validation_steps=n_val,\n",
    "  epochs=epochs\n",
    ")"
   ]
  },
  {
   "cell_type": "code",
   "execution_count": 10,
   "metadata": {},
   "outputs": [
    {
     "data": {
      "image/png": "[encoded data removed]",
      "text/plain": [
       "<Figure size 576x576 with 2 Axes>"
      ]
     },
     "metadata": {
      "needs_background": "light"
     },
     "output_type": "display_data"
    }
   ],
   "source": [
    "acc = history.history['accuracy']\n",
    "val_acc = history.history['val_accuracy']\n",
    "\n",
    "loss = history.history['loss']\n",
    "val_loss = history.history['val_loss']\n",
    "\n",
    "epochs_range = range(epochs)\n",
    "\n",
    "plt.figure(figsize=(8, 8))\n",
    "plt.subplot(1, 2, 1)\n",
    "plt.plot(epochs_range, acc, label='Training Accuracy')\n",
    "plt.plot(epochs_range, val_acc, label='Validation Accuracy')\n",
    "plt.legend(loc='lower right')\n",
    "plt.title('Training and Validation Accuracy')\n",
    "\n",
    "plt.subplot(1, 2, 2)\n",
    "plt.plot(epochs_range, loss, label='Training Loss')\n",
    "plt.plot(epochs_range, val_loss, label='Validation Loss')\n",
    "plt.legend(loc='upper right')\n",
    "plt.title('Training and Validation Loss')\n",
    "plt.show()"
   ]
  },
  {
   "cell_type": "markdown",
   "metadata": {},
   "source": [
    "## Evaluate performance"
   ]
  },
  {
   "cell_type": "code",
   "execution_count": 11,
   "metadata": {},
   "outputs": [],
   "source": [
    "val_gen.reset()\n",
    "Y_pred = []\n",
    "expected = []\n",
    "for i in range(n_val):\n",
    "    imgs, labels = next(val_gen)\n",
    "    pred = model.predict(imgs)\n",
    "    Y_pred.extend(pred)\n",
    "    expected.extend(labels)"
   ]
  },
  {
   "cell_type": "code",
   "execution_count": 12,
   "metadata": {},
   "outputs": [
    {
     "name": "stdout",
     "output_type": "stream",
     "text": [
      "tf.Tensor(\n",
      "[[295   0   5]\n",
      " [  2 277  21]\n",
      " [ 51  10 100]], shape=(3, 3), dtype=int32)\n"
     ]
    }
   ],
   "source": [
    "y=np.argmax(expected, axis=1)\n",
    "y_pred = np.argmax(Y_pred, axis=1)\n",
    "print(tf.math.confusion_matrix(y, y_pred))"
   ]
  },
  {
   "cell_type": "code",
   "execution_count": 13,
   "metadata": {},
   "outputs": [
    {
     "data": {
      "text/plain": [
       "0.8830486202365309"
      ]
     },
     "execution_count": 13,
     "metadata": {},
     "output_type": "execute_result"
    }
   ],
   "source": [
    "sum(y == y_pred)/len(y_pred)"
   ]
  },
  {
   "cell_type": "markdown",
   "metadata": {},
   "source": [
    "## Save model"
   ]
  },
  {
   "cell_type": "code",
   "execution_count": 14,
   "metadata": {},
   "outputs": [
    {
     "name": "stdout",
     "output_type": "stream",
     "text": [
      "INFO:tensorflow:Assets written to: patch-classifier\\assets\n"
     ]
    }
   ],
   "source": [
    "model.save('patch-classifier')"
   ]
  }
 ],
 "metadata": {
  "kernelspec": {
   "display_name": "Python 3",
   "language": "python",
   "name": "python3"
  },
  "language_info": {
   "codemirror_mode": {
    "name": "ipython",
    "version": 3
   },
   "file_extension": ".py",
   "mimetype": "text/x-python",
   "name": "python",
   "nbconvert_exporter": "python",
   "pygments_lexer": "ipython3",
   "version": "3.7.9"
  }
 },
 "nbformat": 4,
 "nbformat_minor": 4
}
